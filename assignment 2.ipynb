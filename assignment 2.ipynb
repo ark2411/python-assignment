{
 "cells": [
  {
   "cell_type": "markdown",
   "id": "6fe7704f",
   "metadata": {},
   "source": [
    "### ANS 1"
   ]
  },
  {
   "cell_type": "code",
   "execution_count": 5,
   "id": "d75c5f92",
   "metadata": {},
   "outputs": [
    {
     "name": "stdout",
     "output_type": "stream",
     "text": [
      "[12, 44, 90, 20, 2]\n"
     ]
    }
   ],
   "source": [
    "def Remove(duplicate):\n",
    "    final_list = []\n",
    "    for num in duplicate:\n",
    "        if num not in final_list:\n",
    "            final_list.append(num)\n",
    "    return final_list\n",
    "     \n",
    "# Driver Code\n",
    "duplicate = [12, 44, 90, 20, 90, 2, 20, 44]\n",
    "print(Remove(duplicate))"
   ]
  },
  {
   "cell_type": "markdown",
   "id": "77de801d",
   "metadata": {},
   "source": [
    "### ANS 2"
   ]
  },
  {
   "cell_type": "code",
   "execution_count": 7,
   "id": "13f12d72",
   "metadata": {},
   "outputs": [
    {
     "name": "stdout",
     "output_type": "stream",
     "text": [
      "{'a': 400, 'b': 400, 'c': 300, 'd': 400}\n"
     ]
    }
   ],
   "source": [
    "d1 = {'a': 100, 'b': 200, 'c':300}\n",
    "\n",
    "d2 = {'a': 300, 'b': 200, 'd':400}\n",
    "\n",
    "d3 = dict(d1) \n",
    "\n",
    "d3.update(d2) \n",
    "\n",
    "for i, j in d1.items():\n",
    "\n",
    "    for x, y in d2.items():\n",
    "\n",
    "        if i == x:\n",
    "\n",
    "            d3[i]=(j+y)\n",
    "\n",
    "print(d3)"
   ]
  },
  {
   "cell_type": "markdown",
   "id": "a2db94e3",
   "metadata": {},
   "source": [
    "## ANS 3\n"
   ]
  },
  {
   "cell_type": "code",
   "execution_count": 12,
   "id": "2edc3269",
   "metadata": {},
   "outputs": [
    {
     "name": "stdout",
     "output_type": "stream",
     "text": [
      "ARNAV KUDAL\n"
     ]
    }
   ],
   "source": [
    "tup = ('A', 'R', 'N', 'A', 'V', ' ', 'K','U','D','A','L')\n",
    "str =  ''.join(tup)\n",
    "print(str)"
   ]
  },
  {
   "cell_type": "markdown",
   "id": "eedb27f0",
   "metadata": {},
   "source": [
    "### ANS 4"
   ]
  },
  {
   "cell_type": "code",
   "execution_count": 16,
   "id": "ec981742",
   "metadata": {},
   "outputs": [
    {
     "name": "stdout",
     "output_type": "stream",
     "text": [
      "{41, 10, 54, 26}\n"
     ]
    }
   ],
   "source": [
    "def Remove(sets):\n",
    "    sets.discard(20)\n",
    "    print (sets)\n",
    "      \n",
    "# Driver Code\n",
    "sets = set([10, 20, 26, 41, 54, 20])\n",
    "Remove(sets)"
   ]
  },
  {
   "cell_type": "markdown",
   "id": "edd66918",
   "metadata": {},
   "source": [
    "### ANS 5"
   ]
  },
  {
   "cell_type": "code",
   "execution_count": 17,
   "id": "6df60553",
   "metadata": {},
   "outputs": [
    {
     "name": "stdout",
     "output_type": "stream",
     "text": [
      "{'a', 'b', 'e'}\n",
      "{'b', 'a', 'e'}\n",
      "{'b', 'c', 'a', 'd'}\n",
      "{'d', 'c', 'e'}\n"
     ]
    }
   ],
   "source": [
    "A = {'a', 'b', 'c', 'd'}\n",
    "B = {'c', 'd', 'e' }\n",
    "C = {}\n",
    "\n",
    "print(A.symmetric_difference(B))\n",
    "print(B.symmetric_difference(A))\n",
    "\n",
    "print(A.symmetric_difference(C))\n",
    "print(B.symmetric_difference(C))"
   ]
  },
  {
   "cell_type": "markdown",
   "id": "c7266101",
   "metadata": {},
   "source": [
    "### ANS 6"
   ]
  },
  {
   "cell_type": "code",
   "execution_count": 18,
   "id": "5277bed1",
   "metadata": {},
   "outputs": [
    {
     "name": "stdout",
     "output_type": "stream",
     "text": [
      "PATTERN.......\n",
      " * \n",
      "\n",
      " *  * \n",
      "\n",
      " *  *  * \n",
      "\n",
      " *  *  *  * \n",
      "\n",
      " *  *  *  *  * \n",
      "\n",
      " *  *  *  *  *  * \n",
      "\n",
      " *  *  *  *  *  * \n",
      "\n",
      " *  *  *  *  * \n",
      "\n",
      " *  *  *  * \n",
      "\n",
      " *  *  * \n",
      "\n",
      " *  * \n",
      "\n",
      " * \n",
      "\n"
     ]
    }
   ],
   "source": [
    "print(\"PATTERN.......\")\n",
    "\n",
    "k=5\n",
    "\n",
    "for i in range(12):\n",
    "\n",
    "    if i<=5:\n",
    "\n",
    "        for j in range(i+1):\n",
    "\n",
    "            print(\" * \",end=\"\")\n",
    "\n",
    "        print(\"\\n\")\n",
    "\n",
    "    elif i>5 :\n",
    "\n",
    "        for j in range(k+1):\n",
    "\n",
    "            print(\" * \",end=\"\")\n",
    "\n",
    "        print(\"\\n\")\n",
    "\n",
    "        k=k-1\n"
   ]
  },
  {
   "cell_type": "markdown",
   "id": "b23bdc08",
   "metadata": {},
   "source": [
    "### ANS 7"
   ]
  },
  {
   "cell_type": "code",
   "execution_count": 19,
   "id": "e6c8fa00",
   "metadata": {},
   "outputs": [
    {
     "name": "stdout",
     "output_type": "stream",
     "text": [
      "1\n",
      "1\n",
      "2\n",
      "3\n",
      "5\n",
      "8\n",
      "13\n",
      "21\n",
      "34\n"
     ]
    }
   ],
   "source": [
    "x,y=0,1\n",
    "\n",
    "while y<50:\n",
    "    print(y)\n",
    "    x,y = y,x+y"
   ]
  },
  {
   "cell_type": "code",
   "execution_count": null,
   "id": "b41304a1",
   "metadata": {},
   "outputs": [],
   "source": []
  }
 ],
 "metadata": {
  "kernelspec": {
   "display_name": "Python 3",
   "language": "python",
   "name": "python3"
  },
  "language_info": {
   "codemirror_mode": {
    "name": "ipython",
    "version": 3
   },
   "file_extension": ".py",
   "mimetype": "text/x-python",
   "name": "python",
   "nbconvert_exporter": "python",
   "pygments_lexer": "ipython3",
   "version": "3.8.8"
  }
 },
 "nbformat": 4,
 "nbformat_minor": 5
}
